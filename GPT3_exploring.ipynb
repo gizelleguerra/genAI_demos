{
  "nbformat": 4,
  "nbformat_minor": 0,
  "metadata": {
    "colab": {
      "provenance": [],
      "authorship_tag": "ABX9TyNblv280U/CWBQXSESINJiT",
      "include_colab_link": true
    },
    "kernelspec": {
      "name": "python3",
      "display_name": "Python 3"
    },
    "language_info": {
      "name": "python"
    }
  },
  "cells": [
    {
      "cell_type": "markdown",
      "metadata": {
        "id": "view-in-github",
        "colab_type": "text"
      },
      "source": [
        "<a href=\"https://colab.research.google.com/github/gizelleguerra/img_processing_practice/blob/main/GPT3_exploring.ipynb\" target=\"_parent\"><img src=\"https://colab.research.google.com/assets/colab-badge.svg\" alt=\"Open In Colab\"/></a>"
      ]
    },
    {
      "cell_type": "markdown",
      "source": [
        "# Using GPT-3 with OpenAI API"
      ],
      "metadata": {
        "id": "3069j2NxDzG4"
      }
    },
    {
      "cell_type": "markdown",
      "source": [
        "First Install OpenAI Package"
      ],
      "metadata": {
        "id": "vMK-_DVwBGC9"
      }
    },
    {
      "cell_type": "code",
      "source": [
        "pip install openai"
      ],
      "metadata": {
        "colab": {
          "base_uri": "https://localhost:8080/"
        },
        "id": "I5bQrEr_HDvU",
        "outputId": "01df8f2a-856f-4c8a-998c-38926c2ec845"
      },
      "execution_count": null,
      "outputs": [
        {
          "output_type": "stream",
          "name": "stdout",
          "text": [
            "Looking in indexes: https://pypi.org/simple, https://us-python.pkg.dev/colab-wheels/public/simple/\n",
            "Collecting openai\n",
            "  Downloading openai-0.26.5.tar.gz (55 kB)\n",
            "\u001b[?25l     \u001b[90m━━━━━━━━━━━━━━━━━━━━━━━━━━━━━━━━━━━━━━━━\u001b[0m \u001b[32m0.0/55.5 KB\u001b[0m \u001b[31m?\u001b[0m eta \u001b[36m-:--:--\u001b[0m\r\u001b[2K     \u001b[90m━━━━━━━━━━━━━━━━━━━━━━━━━━━━━━━━━━━━━━━━\u001b[0m \u001b[32m55.5/55.5 KB\u001b[0m \u001b[31m4.4 MB/s\u001b[0m eta \u001b[36m0:00:00\u001b[0m\n",
            "\u001b[?25h  Installing build dependencies ... \u001b[?25l\u001b[?25hdone\n",
            "  Getting requirements to build wheel ... \u001b[?25l\u001b[?25hdone\n",
            "  Installing backend dependencies ... \u001b[?25l\u001b[?25hdone\n",
            "  Preparing metadata (pyproject.toml) ... \u001b[?25l\u001b[?25hdone\n",
            "Requirement already satisfied: tqdm in /usr/local/lib/python3.8/dist-packages (from openai) (4.64.1)\n",
            "Requirement already satisfied: requests>=2.20 in /usr/local/lib/python3.8/dist-packages (from openai) (2.25.1)\n",
            "Requirement already satisfied: aiohttp in /usr/local/lib/python3.8/dist-packages (from openai) (3.8.4)\n",
            "Requirement already satisfied: certifi>=2017.4.17 in /usr/local/lib/python3.8/dist-packages (from requests>=2.20->openai) (2022.12.7)\n",
            "Requirement already satisfied: idna<3,>=2.5 in /usr/local/lib/python3.8/dist-packages (from requests>=2.20->openai) (2.10)\n",
            "Requirement already satisfied: urllib3<1.27,>=1.21.1 in /usr/local/lib/python3.8/dist-packages (from requests>=2.20->openai) (1.24.3)\n",
            "Requirement already satisfied: chardet<5,>=3.0.2 in /usr/local/lib/python3.8/dist-packages (from requests>=2.20->openai) (4.0.0)\n",
            "Requirement already satisfied: multidict<7.0,>=4.5 in /usr/local/lib/python3.8/dist-packages (from aiohttp->openai) (6.0.4)\n",
            "Requirement already satisfied: yarl<2.0,>=1.0 in /usr/local/lib/python3.8/dist-packages (from aiohttp->openai) (1.8.2)\n",
            "Requirement already satisfied: async-timeout<5.0,>=4.0.0a3 in /usr/local/lib/python3.8/dist-packages (from aiohttp->openai) (4.0.2)\n",
            "Requirement already satisfied: aiosignal>=1.1.2 in /usr/local/lib/python3.8/dist-packages (from aiohttp->openai) (1.3.1)\n",
            "Requirement already satisfied: attrs>=17.3.0 in /usr/local/lib/python3.8/dist-packages (from aiohttp->openai) (22.2.0)\n",
            "Requirement already satisfied: frozenlist>=1.1.1 in /usr/local/lib/python3.8/dist-packages (from aiohttp->openai) (1.3.3)\n",
            "Requirement already satisfied: charset-normalizer<4.0,>=2.0 in /usr/local/lib/python3.8/dist-packages (from aiohttp->openai) (3.0.1)\n",
            "Building wheels for collected packages: openai\n",
            "  Building wheel for openai (pyproject.toml) ... \u001b[?25l\u001b[?25hdone\n",
            "  Created wheel for openai: filename=openai-0.26.5-py3-none-any.whl size=67620 sha256=3355815651531340eac75a722062e3eca1e84d8c1be0bed7dd9a4b1e19e61365\n",
            "  Stored in directory: /root/.cache/pip/wheels/a7/47/99/8273a59fbd59c303e8ff175416d5c1c9c03a2e83ebf7525a99\n",
            "Successfully built openai\n",
            "Installing collected packages: openai\n",
            "Successfully installed openai-0.26.5\n"
          ]
        }
      ]
    },
    {
      "cell_type": "markdown",
      "source": [
        "## Imports and API Setup"
      ],
      "metadata": {
        "id": "PZf-aS9QBLug"
      }
    },
    {
      "cell_type": "code",
      "source": [
        "import os\n",
        "import openai"
      ],
      "metadata": {
        "id": "WGrTkKo8D_RK"
      },
      "execution_count": null,
      "outputs": []
    },
    {
      "cell_type": "code",
      "source": [
        "# your private API Key\n",
        "api_key = \"your private API key here\"\n",
        "openai.api_key = api_key"
      ],
      "metadata": {
        "id": "sD4cTjA2ERO0"
      },
      "execution_count": null,
      "outputs": []
    },
    {
      "cell_type": "markdown",
      "source": [],
      "metadata": {
        "id": "RIDQWFRBqKOw"
      }
    },
    {
      "cell_type": "markdown",
      "source": [
        "## Example 1\n",
        "Set up a test prompt and print the respose"
      ],
      "metadata": {
        "id": "4O8w0hdXBP7S"
      }
    },
    {
      "cell_type": "code",
      "source": [
        "prompt = \"Say this is a test\""
      ],
      "metadata": {
        "id": "_Np2Y17V_6Zd"
      },
      "execution_count": null,
      "outputs": []
    },
    {
      "cell_type": "code",
      "source": [
        "response = openai.Completion.create(\n",
        "  model=\"text-curie-001\",\n",
        "  prompt = prompt,\n",
        "  max_tokens=10,\n",
        ")"
      ],
      "metadata": {
        "id": "BWTJh0LM_2br"
      },
      "execution_count": null,
      "outputs": []
    },
    {
      "cell_type": "code",
      "source": [
        "print(response)"
      ],
      "metadata": {
        "colab": {
          "base_uri": "https://localhost:8080/"
        },
        "id": "cBWbEJhaI6qW",
        "outputId": "49a6cb75-3834-459c-ad8a-5bef6e452db5"
      },
      "execution_count": null,
      "outputs": [
        {
          "output_type": "stream",
          "name": "stdout",
          "text": [
            "{\n",
            "  \"choices\": [\n",
            "    {\n",
            "      \"finish_reason\": \"stop\",\n",
            "      \"index\": 0,\n",
            "      \"logprobs\": null,\n",
            "      \"text\": \"\\n\\nThis is a test.\"\n",
            "    }\n",
            "  ],\n",
            "  \"created\": 1677168087,\n",
            "  \"id\": \"cmpl-6n8K72HUo5tbabnsfl9zVrWrt62Xj\",\n",
            "  \"model\": \"text-curie-001\",\n",
            "  \"object\": \"text_completion\",\n",
            "  \"usage\": {\n",
            "    \"completion_tokens\": 7,\n",
            "    \"prompt_tokens\": 5,\n",
            "    \"total_tokens\": 12\n",
            "  }\n",
            "}\n"
          ]
        }
      ]
    },
    {
      "cell_type": "code",
      "source": [
        "print(response.choices[0].text)"
      ],
      "metadata": {
        "colab": {
          "base_uri": "https://localhost:8080/"
        },
        "id": "hvzkPVOxAo3c",
        "outputId": "8dff4287-9ba7-4b80-f100-bda5c7b3f33b"
      },
      "execution_count": null,
      "outputs": [
        {
          "output_type": "stream",
          "name": "stdout",
          "text": [
            "\n",
            "\n",
            "This is a test.\n"
          ]
        }
      ]
    },
    {
      "cell_type": "markdown",
      "source": [
        "## More Examples of using GPT-3 \n",
        "\n",
        "these examples use the Curie model, which is also very powerful but 1/10th the cost of the most advanced Davinci model."
      ],
      "metadata": {
        "id": "e0k_culSBXT4"
      }
    },
    {
      "cell_type": "markdown",
      "source": [
        "A bit about the response set up and parameters:\n",
        "*  engine is set the model we want to use, in this case Curie.\n",
        "*  prompt is set to “text”, which is a variable representing the text input to the function.\n",
        "*  temperature sets out how deterministic the output of the model is. A high temperature gives the model more freedom to sample outputs. For example, assuming the probability of returning word A and word B as the next word in a certain task is 80% and 20% respectively. Setting the a ‘low’ temperature (i.e. closer to 0) is likely to return word A on all instances the function is run, whereas setting a ‘high’ temperature (i.e. closer to 1) allows the model to return word B for some instances.\n",
        "* top_p sets out the distribution to select the outputs from. Using the same example above, a top_p of 0.75 tells the model to only select word A as it’s the only word with a probability exceeding 0.75.\n",
        "* max_tokens sets out the limit for the number of words to be returned. This may have financial implications as GPT-3 may charge per token for commercial applications. A general rule of thumb is the more words the model is allowed to return, the less ‘abstract’ the outputs will be.\n",
        "* frequency_penalty and presence_penalty both are parameters which penalise the model for returning outputs which appear often."
      ],
      "metadata": {
        "id": "Vf0AtQyaDl-l"
      }
    },
    {
      "cell_type": "code",
      "source": [
        "# function to structure the response\n",
        "# def GPT_Completion(texts):\n",
        "#   openai.api_key = api_key\n",
        "#   response = openai.Completion.create(\n",
        "#   engine=\"text-curie-001\",\n",
        "#   prompt =  texts,\n",
        "#   temperature = 0.7,\n",
        "#   top_p = 1,\n",
        "#   max_tokens = 64,\n",
        "#   frequency_penalty = 0,\n",
        "#   presence_penalty = 0\n",
        "#   )\n",
        "#   return print(response.choices[0].text)"
      ],
      "metadata": {
        "id": "jpeVPSrqI7zj"
      },
      "execution_count": null,
      "outputs": []
    },
    {
      "cell_type": "code",
      "source": [
        "# function to structure the response - includes more configurable parameters\n",
        "def GPT_Completion2(texts, tp = 1, temp = 0.7 , tokens = 64):\n",
        "  openai.api_key = api_key\n",
        "  response = openai.Completion.create(\n",
        "  engine=\"text-curie-001\",\n",
        "  prompt =  texts,\n",
        "  temperature = temp,\n",
        "  top_p = tp,\n",
        "  max_tokens = tokens,\n",
        "  frequency_penalty = 0,\n",
        "  presence_penalty = 0\n",
        "  )\n",
        "  return print(response.choices[0].text)"
      ],
      "metadata": {
        "id": "D9bXnWjcUGmV"
      },
      "execution_count": null,
      "outputs": []
    },
    {
      "cell_type": "code",
      "source": [
        "# ask the model to generate a recipe based on a list of ingrediets (you might need more tokens to see the full recipe - tokens parameter)\n",
        "recipe = 'Provide a cooking recipe based on the following ingredients: \\\n",
        "\\n \\nApple \\\n",
        "\\n \\nFlour \\\n",
        "\\n \\nChicken \\\n",
        "\\n \\nSalt'\n",
        "\n",
        "#GPT_Completion(recipe, tp = 0.75)\n",
        "GPT_Completion2(recipe, tp = 0.75, temp = 0.6, tokens = 100)"
      ],
      "metadata": {
        "colab": {
          "base_uri": "https://localhost:8080/"
        },
        "id": "UTLKVfdwCO0n",
        "outputId": "8286a71e-1e6a-470c-89d9-2367cddf2ff9"
      },
      "execution_count": null,
      "outputs": [
        {
          "output_type": "stream",
          "name": "stdout",
          "text": [
            " \n",
            " \n",
            "Pepper \n",
            " \n",
            "Oil \n",
            "\n",
            "Apple Chicken Fry\n",
            "\n",
            "1. Preheat oil in a large skillet over medium-high heat.\n",
            "\n",
            "2. In a bowl, combine flour, salt, and pepper.\n",
            "\n",
            "3. Dredge chicken in the flour mixture until coated.\n",
            "\n",
            "4. Add chicken to the hot oil and cook until golden brown, about 4 minutes per side.\n",
            "\n",
            "5. Serve hot with apples cooked in their own juice\n"
          ]
        }
      ]
    },
    {
      "cell_type": "code",
      "source": [
        "# ask model for a spreadsheet of best movies in 2019\n",
        "spreadsheet = 'Create a spreadsheet showing the 2019 oscar nominees for best movie'\n",
        "GPT_Completion2(spreadsheet)"
      ],
      "metadata": {
        "colab": {
          "base_uri": "https://localhost:8080/"
        },
        "id": "9ANRPF3KCxhV",
        "outputId": "da003170-f7e8-4cd9-bdbe-959beb6bcf0d"
      },
      "execution_count": null,
      "outputs": [
        {
          "output_type": "stream",
          "name": "stdout",
          "text": [
            "\n",
            "\n",
            "The nominees for the 2019 oscar awards for best movie are:\n",
            "\n",
            "Avengers: Endgame \n",
            "Black Panther \n",
            "Bohemian Rhapsody \n",
            "The Favourite \n",
            "Green Book \n",
            "Mary Poppins Returns \n",
            "Roma \n",
            "Vice \n",
            "\n",
            "Best Picture\n"
          ]
        }
      ]
    },
    {
      "cell_type": "code",
      "source": [
        "# ask model to summarize text (need top_p = 1)\n",
        "prompt = \"Summarize this for a second-grade student:\\n\\nJupiter is the fifth planet from the Sun and the largest in the Solar System. It is a gas giant with a mass one-thousandth that of the Sun, but two-and-a-half times that of all the other planets in the Solar System combined. Jupiter is one of the brightest objects visible to the naked eye in the night sky, and has been known to ancient civilizations since before recorded history. It is named after the Roman god Jupiter.[19] When viewed from Earth, Jupiter can be bright enough for its reflected light to cast visible shadows,[20] and is on average the third-brightest natural object in the night sky after the Moon and Venus.\"\n",
        "\n",
        "GPT_Completion2(prompt)"
      ],
      "metadata": {
        "colab": {
          "base_uri": "https://localhost:8080/"
        },
        "id": "keUpxh4yC57-",
        "outputId": "0c959f45-6cd6-453a-bc94-697dcd1577db"
      },
      "execution_count": null,
      "outputs": [
        {
          "output_type": "stream",
          "name": "stdout",
          "text": [
            "\n",
            "\n",
            "Jupiter is the fifth planet from the Sun and the largest in the Solar System. It is a gas giant with a mass one-thousandth that of the Sun, but two-and-a-half times that of all the other planets in the Solar System combined. Jupiter is one of the brightest\n"
          ]
        }
      ]
    },
    {
      "cell_type": "code",
      "source": [
        "prompt"
      ],
      "metadata": {
        "colab": {
          "base_uri": "https://localhost:8080/",
          "height": 88
        },
        "id": "GnZ7kpLqFnLr",
        "outputId": "45309a7d-12e0-4715-cc24-ab9e5ccb30d1"
      },
      "execution_count": null,
      "outputs": [
        {
          "output_type": "execute_result",
          "data": {
            "text/plain": [
              "'Summarize this for a second-grade student:\\n\\nJupiter is the fifth planet from the Sun and the largest in the Solar System. It is a gas giant with a mass one-thousandth that of the Sun, but two-and-a-half times that of all the other planets in the Solar System combined. Jupiter is one of the brightest objects visible to the naked eye in the night sky, and has been known to ancient civilizations since before recorded history. It is named after the Roman god Jupiter.[19] When viewed from Earth, Jupiter can be bright enough for its reflected light to cast visible shadows,[20] and is on average the third-brightest natural object in the night sky after the Moon and Venus.'"
            ],
            "application/vnd.google.colaboratory.intrinsic+json": {
              "type": "string"
            }
          },
          "metadata": {},
          "execution_count": 21
        }
      ]
    },
    {
      "cell_type": "markdown",
      "source": [
        "## Fine-tuning GPT-3\n",
        "For specific applications, the model will preform better if it is trained on relevant data"
      ],
      "metadata": {
        "id": "HMGXeiO-YF5e"
      }
    },
    {
      "cell_type": "markdown",
      "source": [
        "Fine-tuning lets you get more out of the models available through the API by providing:\n",
        "\n",
        "*  Higher quality results than prompt design\n",
        "*  Ability to train on more examples than can fit in a prompt\n",
        "*  Token savings due to shorter prompts\n",
        "*  Lower latency requests\n",
        "\n",
        "Fine-tuning improves on few-shot learning by training on many more examples than can fit in the prompt, letting you achieve better results on a wide number of tasks. Once a model has been fine-tuned, you won't need to provide examples in the prompt anymore. This saves costs and enables lower-latency requests.\n",
        "\n",
        "At a high level, fine-tuning involves the following steps:\n",
        "\n",
        "*  Prepare and upload training data (your data must be a JSONL document)\n",
        "*  Train a new fine-tuned model\n",
        "*  Use your fine-tuned model"
      ],
      "metadata": {
        "id": "T0a1xutzYzhh"
      }
    },
    {
      "cell_type": "markdown",
      "source": [],
      "metadata": {
        "id": "qNA3mcX2KZ7G"
      }
    },
    {
      "cell_type": "markdown",
      "source": [
        "![image.png](data:image/png;base64,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)"
      ],
      "metadata": {
        "id": "59cfBYbGKhAT"
      }
    },
    {
      "cell_type": "code",
      "source": [
        "# prepare data"
      ],
      "metadata": {
        "id": "KgRcXveKZUnk"
      },
      "execution_count": null,
      "outputs": []
    },
    {
      "cell_type": "code",
      "source": [
        "openai tools fine_tunes.prepare_data -f <LOCAL_FILE>"
      ],
      "metadata": {
        "id": "FCjwZ0QwYcSC"
      },
      "execution_count": null,
      "outputs": []
    },
    {
      "cell_type": "code",
      "source": [],
      "metadata": {
        "id": "hgOlXJcBZWdW"
      },
      "execution_count": null,
      "outputs": []
    }
  ]
}