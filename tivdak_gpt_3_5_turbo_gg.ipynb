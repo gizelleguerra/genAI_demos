{
  "cells": [
    {
      "cell_type": "markdown",
      "metadata": {
        "id": "view-in-github",
        "colab_type": "text"
      },
      "source": [
        "<a href=\"https://colab.research.google.com/github/gizelleguerra/genAI_demos/blob/main/tivdak_gpt_3_5_turbo_gg.ipynb\" target=\"_parent\"><img src=\"https://colab.research.google.com/assets/colab-badge.svg\" alt=\"Open In Colab\"/></a>"
      ]
    },
    {
      "cell_type": "markdown",
      "source": [
        "## Installs and Setup"
      ],
      "metadata": {
        "id": "y9NTlrLE4SND"
      },
      "id": "y9NTlrLE4SND"
    },
    {
      "cell_type": "code",
      "source": [
        "!mkdir -p DATA/TIVDAK;curl https://docs.seagen.com/Tivdak_Full_Ltr_Master.pdf -o DATA/TIVDAK/tivdak.pdf"
      ],
      "metadata": {
        "colab": {
          "base_uri": "https://localhost:8080/"
        },
        "id": "hNi94c7jgW-M",
        "outputId": "f11b11e0-925e-489b-e197-b857fd48fb62"
      },
      "id": "hNi94c7jgW-M",
      "execution_count": null,
      "outputs": [
        {
          "output_type": "stream",
          "name": "stdout",
          "text": [
            "  % Total    % Received % Xferd  Average Speed   Time    Time     Time  Current\n",
            "                                 Dload  Upload   Total   Spent    Left  Speed\n",
            "100  548k  100  548k    0     0   544k      0  0:00:01  0:00:01 --:--:--  544k\n"
          ]
        }
      ]
    },
    {
      "cell_type": "code",
      "source": [
        "%pip install -qq llama-index openai pypdf"
      ],
      "metadata": {
        "id": "VrTpIfTBBjVt",
        "colab": {
          "base_uri": "https://localhost:8080/"
        },
        "outputId": "4372db2a-58d9-41c8-fe59-f33787b551d5"
      },
      "id": "VrTpIfTBBjVt",
      "execution_count": null,
      "outputs": [
        {
          "output_type": "stream",
          "name": "stdout",
          "text": [
            "\u001b[?25l     \u001b[90m━━━━━━━━━━━━━━━━━━━━━━━━━━━━━━━━━━━━━━━━\u001b[0m \u001b[32m0.0/607.9 kB\u001b[0m \u001b[31m?\u001b[0m eta \u001b[36m-:--:--\u001b[0m\r\u001b[2K     \u001b[91m━━━━━━━\u001b[0m\u001b[91m╸\u001b[0m\u001b[90m━━━━━━━━━━━━━━━━━━━━━━━━━━━━━━━\u001b[0m \u001b[32m122.9/607.9 kB\u001b[0m \u001b[31m3.8 MB/s\u001b[0m eta \u001b[36m0:00:01\u001b[0m\r\u001b[2K     \u001b[90m━━━━━━━━━━━━━━━━━━━━━━━━━━━━━━━━━━━━━━\u001b[0m \u001b[32m607.9/607.9 kB\u001b[0m \u001b[31m10.6 MB/s\u001b[0m eta \u001b[36m0:00:00\u001b[0m\n",
            "\u001b[2K     \u001b[90m━━━━━━━━━━━━━━━━━━━━━━━━━━━━━━━━━━━━━━━━\u001b[0m \u001b[32m73.6/73.6 kB\u001b[0m \u001b[31m8.7 MB/s\u001b[0m eta \u001b[36m0:00:00\u001b[0m\n",
            "\u001b[2K     \u001b[90m━━━━━━━━━━━━━━━━━━━━━━━━━━━━━━━━━━━━━━\u001b[0m \u001b[32m255.0/255.0 kB\u001b[0m \u001b[31m23.7 MB/s\u001b[0m eta \u001b[36m0:00:00\u001b[0m\n",
            "\u001b[2K     \u001b[90m━━━━━━━━━━━━━━━━━━━━━━━━━━━━━━━━━━━━━━━━\u001b[0m \u001b[32m1.7/1.7 MB\u001b[0m \u001b[31m58.8 MB/s\u001b[0m eta \u001b[36m0:00:00\u001b[0m\n",
            "\u001b[2K     \u001b[90m━━━━━━━━━━━━━━━━━━━━━━━━━━━━━━━━━━━━━━━━\u001b[0m \u001b[32m1.3/1.3 MB\u001b[0m \u001b[31m32.9 MB/s\u001b[0m eta \u001b[36m0:00:00\u001b[0m\n",
            "\u001b[2K     \u001b[90m━━━━━━━━━━━━━━━━━━━━━━━━━━━━━━━━━━━━━━━━\u001b[0m \u001b[32m90.0/90.0 kB\u001b[0m \u001b[31m10.4 MB/s\u001b[0m eta \u001b[36m0:00:00\u001b[0m\n",
            "\u001b[2K     \u001b[90m━━━━━━━━━━━━━━━━━━━━━━━━━━━━━━━━━━━━━━━━\u001b[0m \u001b[32m49.1/49.1 kB\u001b[0m \u001b[31m5.1 MB/s\u001b[0m eta \u001b[36m0:00:00\u001b[0m\n",
            "\u001b[?25h"
          ]
        }
      ]
    },
    {
      "cell_type": "code",
      "source": [
        "!pip install streamlit"
      ],
      "metadata": {
        "colab": {
          "base_uri": "https://localhost:8080/"
        },
        "id": "yBy2x-lGauIm",
        "outputId": "b7f76776-c913-468c-b116-3bc6036adc9f"
      },
      "id": "yBy2x-lGauIm",
      "execution_count": null,
      "outputs": [
        {
          "output_type": "stream",
          "name": "stdout",
          "text": [
            "Collecting streamlit\n",
            "  Downloading streamlit-1.24.1-py2.py3-none-any.whl (8.9 MB)\n",
            "\u001b[2K     \u001b[90m━━━━━━━━━━━━━━━━━━━━━━━━━━━━━━━━━━━━━━━━\u001b[0m \u001b[32m8.9/8.9 MB\u001b[0m \u001b[31m21.8 MB/s\u001b[0m eta \u001b[36m0:00:00\u001b[0m\n",
            "\u001b[?25hRequirement already satisfied: altair<6,>=4.0 in /usr/local/lib/python3.10/dist-packages (from streamlit) (4.2.2)\n",
            "Requirement already satisfied: blinker<2,>=1.0.0 in /usr/lib/python3/dist-packages (from streamlit) (1.4)\n",
            "Requirement already satisfied: cachetools<6,>=4.0 in /usr/local/lib/python3.10/dist-packages (from streamlit) (5.3.1)\n",
            "Requirement already satisfied: click<9,>=7.0 in /usr/local/lib/python3.10/dist-packages (from streamlit) (8.1.4)\n",
            "Requirement already satisfied: importlib-metadata<7,>=1.4 in /usr/lib/python3/dist-packages (from streamlit) (4.6.4)\n",
            "Requirement already satisfied: numpy<2,>=1 in /usr/local/lib/python3.10/dist-packages (from streamlit) (1.22.4)\n",
            "Requirement already satisfied: packaging<24,>=14.1 in /usr/local/lib/python3.10/dist-packages (from streamlit) (23.1)\n",
            "Requirement already satisfied: pandas<3,>=0.25 in /usr/local/lib/python3.10/dist-packages (from streamlit) (1.5.3)\n",
            "Requirement already satisfied: pillow<10,>=6.2.0 in /usr/local/lib/python3.10/dist-packages (from streamlit) (8.4.0)\n",
            "Requirement already satisfied: protobuf<5,>=3.20 in /usr/local/lib/python3.10/dist-packages (from streamlit) (3.20.3)\n",
            "Requirement already satisfied: pyarrow>=4.0 in /usr/local/lib/python3.10/dist-packages (from streamlit) (9.0.0)\n",
            "Collecting pympler<2,>=0.9 (from streamlit)\n",
            "  Downloading Pympler-1.0.1-py3-none-any.whl (164 kB)\n",
            "\u001b[2K     \u001b[90m━━━━━━━━━━━━━━━━━━━━━━━━━━━━━━━━━━━━━━\u001b[0m \u001b[32m164.8/164.8 kB\u001b[0m \u001b[31m15.6 MB/s\u001b[0m eta \u001b[36m0:00:00\u001b[0m\n",
            "\u001b[?25hRequirement already satisfied: python-dateutil<3,>=2 in /usr/local/lib/python3.10/dist-packages (from streamlit) (2.8.2)\n",
            "Requirement already satisfied: requests<3,>=2.4 in /usr/local/lib/python3.10/dist-packages (from streamlit) (2.27.1)\n",
            "Requirement already satisfied: rich<14,>=10.11.0 in /usr/local/lib/python3.10/dist-packages (from streamlit) (13.4.2)\n",
            "Requirement already satisfied: tenacity<9,>=8.0.0 in /usr/local/lib/python3.10/dist-packages (from streamlit) (8.2.2)\n",
            "Requirement already satisfied: toml<2 in /usr/local/lib/python3.10/dist-packages (from streamlit) (0.10.2)\n",
            "Requirement already satisfied: typing-extensions<5,>=4.0.1 in /usr/local/lib/python3.10/dist-packages (from streamlit) (4.7.1)\n",
            "Collecting tzlocal<5,>=1.1 (from streamlit)\n",
            "  Downloading tzlocal-4.3.1-py3-none-any.whl (20 kB)\n",
            "Collecting validators<1,>=0.2 (from streamlit)\n",
            "  Downloading validators-0.20.0.tar.gz (30 kB)\n",
            "  Preparing metadata (setup.py) ... \u001b[?25l\u001b[?25hdone\n",
            "Collecting gitpython!=3.1.19,<4,>=3 (from streamlit)\n",
            "  Downloading GitPython-3.1.32-py3-none-any.whl (188 kB)\n",
            "\u001b[2K     \u001b[90m━━━━━━━━━━━━━━━━━━━━━━━━━━━━━━━━━━━━━━\u001b[0m \u001b[32m188.5/188.5 kB\u001b[0m \u001b[31m20.9 MB/s\u001b[0m eta \u001b[36m0:00:00\u001b[0m\n",
            "\u001b[?25hCollecting pydeck<1,>=0.1.dev5 (from streamlit)\n",
            "  Downloading pydeck-0.8.1b0-py2.py3-none-any.whl (4.8 MB)\n",
            "\u001b[2K     \u001b[90m━━━━━━━━━━━━━━━━━━━━━━━━━━━━━━━━━━━━━━━━\u001b[0m \u001b[32m4.8/4.8 MB\u001b[0m \u001b[31m54.7 MB/s\u001b[0m eta \u001b[36m0:00:00\u001b[0m\n",
            "\u001b[?25hRequirement already satisfied: tornado<7,>=6.0.3 in /usr/local/lib/python3.10/dist-packages (from streamlit) (6.3.1)\n",
            "Collecting watchdog (from streamlit)\n",
            "  Downloading watchdog-3.0.0-py3-none-manylinux2014_x86_64.whl (82 kB)\n",
            "\u001b[2K     \u001b[90m━━━━━━━━━━━━━━━━━━━━━━━━━━━━━━━━━━━━━━━━\u001b[0m \u001b[32m82.1/82.1 kB\u001b[0m \u001b[31m10.7 MB/s\u001b[0m eta \u001b[36m0:00:00\u001b[0m\n",
            "\u001b[?25hRequirement already satisfied: entrypoints in /usr/local/lib/python3.10/dist-packages (from altair<6,>=4.0->streamlit) (0.4)\n",
            "Requirement already satisfied: jinja2 in /usr/local/lib/python3.10/dist-packages (from altair<6,>=4.0->streamlit) (3.1.2)\n",
            "Requirement already satisfied: jsonschema>=3.0 in /usr/local/lib/python3.10/dist-packages (from altair<6,>=4.0->streamlit) (4.3.3)\n",
            "Requirement already satisfied: toolz in /usr/local/lib/python3.10/dist-packages (from altair<6,>=4.0->streamlit) (0.12.0)\n",
            "Collecting gitdb<5,>=4.0.1 (from gitpython!=3.1.19,<4,>=3->streamlit)\n",
            "  Downloading gitdb-4.0.10-py3-none-any.whl (62 kB)\n",
            "\u001b[2K     \u001b[90m━━━━━━━━━━━━━━━━━━━━━━━━━━━━━━━━━━━━━━━━\u001b[0m \u001b[32m62.7/62.7 kB\u001b[0m \u001b[31m7.9 MB/s\u001b[0m eta \u001b[36m0:00:00\u001b[0m\n",
            "\u001b[?25hRequirement already satisfied: pytz>=2020.1 in /usr/local/lib/python3.10/dist-packages (from pandas<3,>=0.25->streamlit) (2022.7.1)\n",
            "Requirement already satisfied: six>=1.5 in /usr/local/lib/python3.10/dist-packages (from python-dateutil<3,>=2->streamlit) (1.16.0)\n",
            "Requirement already satisfied: urllib3<1.27,>=1.21.1 in /usr/local/lib/python3.10/dist-packages (from requests<3,>=2.4->streamlit) (1.26.16)\n",
            "Requirement already satisfied: certifi>=2017.4.17 in /usr/local/lib/python3.10/dist-packages (from requests<3,>=2.4->streamlit) (2023.5.7)\n",
            "Requirement already satisfied: charset-normalizer~=2.0.0 in /usr/local/lib/python3.10/dist-packages (from requests<3,>=2.4->streamlit) (2.0.12)\n",
            "Requirement already satisfied: idna<4,>=2.5 in /usr/local/lib/python3.10/dist-packages (from requests<3,>=2.4->streamlit) (3.4)\n",
            "Requirement already satisfied: markdown-it-py>=2.2.0 in /usr/local/lib/python3.10/dist-packages (from rich<14,>=10.11.0->streamlit) (3.0.0)\n",
            "Requirement already satisfied: pygments<3.0.0,>=2.13.0 in /usr/local/lib/python3.10/dist-packages (from rich<14,>=10.11.0->streamlit) (2.14.0)\n",
            "Collecting pytz-deprecation-shim (from tzlocal<5,>=1.1->streamlit)\n",
            "  Downloading pytz_deprecation_shim-0.1.0.post0-py2.py3-none-any.whl (15 kB)\n",
            "Requirement already satisfied: decorator>=3.4.0 in /usr/local/lib/python3.10/dist-packages (from validators<1,>=0.2->streamlit) (4.4.2)\n",
            "Collecting smmap<6,>=3.0.1 (from gitdb<5,>=4.0.1->gitpython!=3.1.19,<4,>=3->streamlit)\n",
            "  Downloading smmap-5.0.0-py3-none-any.whl (24 kB)\n",
            "Requirement already satisfied: MarkupSafe>=2.0 in /usr/local/lib/python3.10/dist-packages (from jinja2->altair<6,>=4.0->streamlit) (2.1.3)\n",
            "Requirement already satisfied: attrs>=17.4.0 in /usr/local/lib/python3.10/dist-packages (from jsonschema>=3.0->altair<6,>=4.0->streamlit) (23.1.0)\n",
            "Requirement already satisfied: pyrsistent!=0.17.0,!=0.17.1,!=0.17.2,>=0.14.0 in /usr/local/lib/python3.10/dist-packages (from jsonschema>=3.0->altair<6,>=4.0->streamlit) (0.19.3)\n",
            "Requirement already satisfied: mdurl~=0.1 in /usr/local/lib/python3.10/dist-packages (from markdown-it-py>=2.2.0->rich<14,>=10.11.0->streamlit) (0.1.2)\n",
            "Collecting tzdata (from pytz-deprecation-shim->tzlocal<5,>=1.1->streamlit)\n",
            "  Downloading tzdata-2023.3-py2.py3-none-any.whl (341 kB)\n",
            "\u001b[2K     \u001b[90m━━━━━━━━━━━━━━━━━━━━━━━━━━━━━━━━━━━━━━\u001b[0m \u001b[32m341.8/341.8 kB\u001b[0m \u001b[31m37.6 MB/s\u001b[0m eta \u001b[36m0:00:00\u001b[0m\n",
            "\u001b[?25hBuilding wheels for collected packages: validators\n",
            "  Building wheel for validators (setup.py) ... \u001b[?25l\u001b[?25hdone\n",
            "  Created wheel for validators: filename=validators-0.20.0-py3-none-any.whl size=19579 sha256=2ff9e50f10d87a830a2fe3816e77aced37b703bb213728297f1c8f900ff531ba\n",
            "  Stored in directory: /root/.cache/pip/wheels/f2/ed/dd/d3a556ad245ef9dc570c6bcd2f22886d17b0b408dd3bbb9ac3\n",
            "Successfully built validators\n",
            "Installing collected packages: watchdog, validators, tzdata, smmap, pympler, pytz-deprecation-shim, pydeck, gitdb, tzlocal, gitpython, streamlit\n",
            "  Attempting uninstall: tzlocal\n",
            "    Found existing installation: tzlocal 5.0.1\n",
            "    Uninstalling tzlocal-5.0.1:\n",
            "      Successfully uninstalled tzlocal-5.0.1\n",
            "Successfully installed gitdb-4.0.10 gitpython-3.1.32 pydeck-0.8.1b0 pympler-1.0.1 pytz-deprecation-shim-0.1.0.post0 smmap-5.0.0 streamlit-1.24.1 tzdata-2023.3 tzlocal-4.3.1 validators-0.20.0 watchdog-3.0.0\n"
          ]
        }
      ]
    },
    {
      "cell_type": "code",
      "source": [
        "from google.colab import drive\n",
        "drive.mount('/content/drive')"
      ],
      "metadata": {
        "id": "OWcKTsR7e5n6",
        "outputId": "62631f7c-e8aa-4d46-c00c-88ee090c54c6",
        "colab": {
          "base_uri": "https://localhost:8080/"
        }
      },
      "id": "OWcKTsR7e5n6",
      "execution_count": null,
      "outputs": [
        {
          "output_type": "stream",
          "name": "stdout",
          "text": [
            "Mounted at /content/drive\n"
          ]
        }
      ]
    },
    {
      "cell_type": "markdown",
      "source": [
        "## Imports"
      ],
      "metadata": {
        "id": "XRyxJ5Fv4lUZ"
      },
      "id": "XRyxJ5Fv4lUZ"
    },
    {
      "cell_type": "code",
      "execution_count": null,
      "id": "4921c412",
      "metadata": {
        "id": "4921c412"
      },
      "outputs": [],
      "source": [
        "import os\n",
        "import llama_index\n",
        "from llama_index import ListIndex, VectorStoreIndex, SimpleDirectoryReader, LLMPredictor, ServiceContext, PromptHelper, GPTVectorStoreIndex\n",
        "from llama_index.response.notebook_utils import display_response\n",
        "from llama_index import download_loader\n",
        "from llama_index.node_parser import SimpleNodeParser\n",
        "from llama_index.llms import OpenAI\n",
        "from IPython.display import Markdown, display\n",
        "import logging, sys, os, json\n",
        "from pathlib import Path\n",
        "import openai\n",
        "from typing import List, Tuple, Dict, Union\n",
        "\n",
        "import streamlit as st\n",
        "\n",
        "logging.basicConfig(stream=sys.stdout, level=logging.DEBUG)\n",
        "logger = logging.getLogger()\n",
        "logger.addHandler(logging.StreamHandler(stream=sys.stdout))"
      ]
    },
    {
      "cell_type": "code",
      "source": [
        "#all the things that are in lamaindex:\n",
        "#dir(llama_index)"
      ],
      "metadata": {
        "id": "iu7kmRs_uVfw"
      },
      "id": "iu7kmRs_uVfw",
      "execution_count": null,
      "outputs": []
    },
    {
      "cell_type": "markdown",
      "source": [
        "## Set up Open AI API key and data path"
      ],
      "metadata": {
        "id": "HZoE1wWF45jE"
      },
      "id": "HZoE1wWF45jE"
    },
    {
      "cell_type": "code",
      "source": [
        "test: int = 3\n",
        "output: str = json.dumps({\"test\":test});output"
      ],
      "metadata": {
        "colab": {
          "base_uri": "https://localhost:8080/",
          "height": 36
        },
        "id": "y1Vqf3LujIj-",
        "outputId": "4e928528-3e70-4be3-d897-ba3890d7c094"
      },
      "id": "y1Vqf3LujIj-",
      "execution_count": null,
      "outputs": [
        {
          "output_type": "execute_result",
          "data": {
            "text/plain": [
              "'{\"test\": 3}'"
            ],
            "application/vnd.google.colaboratory.intrinsic+json": {
              "type": "string"
            }
          },
          "metadata": {},
          "execution_count": 10
        }
      ]
    },
    {
      "cell_type": "code",
      "execution_count": null,
      "id": "261d923e",
      "metadata": {
        "id": "261d923e"
      },
      "outputs": [],
      "source": [
        "cwd: Path = Path.cwd()\n",
        "data_dir: Path = cwd / \"DATA\"\n",
        "tivdak_dir: Path  = data_dir / \"TIVDAK\"\n",
        "documents = SimpleDirectoryReader(tivdak_dir).load_data()"
      ]
    },
    {
      "cell_type": "code",
      "source": [
        "def set_open_ai_key(env_path: Union[Path, str] = None) -> Tuple[bool, str]:\n",
        "  import json, os\n",
        "  from pathlib import Path\n",
        "\n",
        "  openai.api_key = None #clear previous key if exists\n",
        "  env_path: Path = Path(env_path).absolute() # in case env_path is passed as a str\n",
        "  if not env_path.is_file(): err: str = f\"File:{str(env_path)} does not exist.\"\n",
        "  else:\n",
        "    try:\n",
        "      with open(env_path, \"r\") as f:\n",
        "          env_vars = json.load(f)\n",
        "      os.environ[\"OPENAI_API_KEY\"] = env_vars[\"OPENAI_API_KEY\"]\n",
        "      openai.api_key = os.environ[\"OPENAI_API_KEY\"]\n",
        "      openai.Model.list() #test a random command on the openai API\n",
        "      err = None\n",
        "    except Exception as e:\n",
        "      err = json.dumps({\"error\":e})\n",
        "\n",
        "  logger.info(err)\n",
        "  return (True, \"ok\") if not err else (False, err)"
      ],
      "metadata": {
        "id": "cBPv_qUQDX6A"
      },
      "id": "cBPv_qUQDX6A",
      "execution_count": null,
      "outputs": []
    },
    {
      "cell_type": "code",
      "source": [
        "#cwd: Path = Path.cwd()\n",
        "env_path: Path = \"/content/drive/MyDrive/Colab Notebooks/openai.env\";\n",
        "print(set_open_ai_key(env_path)) # Tuple[bool, str]"
      ],
      "metadata": {
        "colab": {
          "base_uri": "https://localhost:8080/"
        },
        "id": "b2wcWk_QpclU",
        "outputId": "4f9a85f0-d4b1-41cc-8a9d-a54728fa8be1"
      },
      "id": "b2wcWk_QpclU",
      "execution_count": null,
      "outputs": [
        {
          "output_type": "stream",
          "name": "stdout",
          "text": [
            "(True, 'ok')\n"
          ]
        }
      ]
    },
    {
      "cell_type": "markdown",
      "source": [
        "## Call to OpenAI API (GPT 3.5)"
      ],
      "metadata": {
        "id": "z9xStAaT5A9A"
      },
      "id": "z9xStAaT5A9A"
    },
    {
      "cell_type": "code",
      "execution_count": null,
      "id": "0c635cdb",
      "metadata": {
        "id": "0c635cdb"
      },
      "outputs": [],
      "source": [
        "llm: llama_index.llms.openai.OpenAI = OpenAI(temperature=0,\n",
        "             model=\"gpt-3.5-turbo\",\n",
        "             max_tokens=400,\n",
        "             max_retries = 5)\n",
        "\n",
        "service_context: llama_index.indices.service_context.ServiceContext = ServiceContext.from_defaults(llm=llm)"
      ]
    },
    {
      "cell_type": "code",
      "execution_count": null,
      "id": "b8ad1a2a",
      "metadata": {
        "id": "b8ad1a2a"
      },
      "outputs": [],
      "source": [
        "davinci_index: llama_index.indices.vector_store.base.VectorStoreIndex = VectorStoreIndex.from_documents(documents, service_context=service_context)"
      ]
    },
    {
      "cell_type": "markdown",
      "source": [
        "## Chat with the Tivdak Docs"
      ],
      "metadata": {
        "id": "KNXSJuML5Ho5"
      },
      "id": "KNXSJuML5Ho5"
    },
    {
      "cell_type": "markdown",
      "source": [
        "### basic Q&A applications"
      ],
      "metadata": {
        "id": "NGcRy0Bo6rIR"
      },
      "id": "NGcRy0Bo6rIR"
    },
    {
      "cell_type": "code",
      "execution_count": null,
      "id": "fa1d7242",
      "metadata": {
        "id": "fa1d7242"
      },
      "outputs": [],
      "source": [
        "query_engine: llama_index.query_engine.retriever_query_engine.RetrieverQueryEngine = davinci_index.as_query_engine(response_mode=\"tree_summarize\")\n",
        "q: str = \"what is tivdak used for?\"\n",
        "response: llama_index.response.schema.Response = query_engine.query(q)"
      ]
    },
    {
      "cell_type": "code",
      "execution_count": null,
      "id": "d758bdb7",
      "metadata": {
        "scrolled": true,
        "colab": {
          "base_uri": "https://localhost:8080/",
          "height": 64
        },
        "id": "d758bdb7",
        "outputId": "fd50afd7-35ca-471a-8eb6-3cbb87a1c385"
      },
      "outputs": [
        {
          "output_type": "display_data",
          "data": {
            "text/plain": [
              "<IPython.core.display.Markdown object>"
            ],
            "text/markdown": "**`Final Response:`** TIVDAK is used to treat adults with cervical cancer that has returned or has spread to other parts of the body, and who have received chemotherapy that did not work or is no longer working."
          },
          "metadata": {}
        }
      ],
      "source": [
        "display_response(response)"
      ]
    },
    {
      "cell_type": "code",
      "source": [
        "q = \"what is tisotumab vedotin used for?\"\n",
        "display_response(query_engine.query(q))"
      ],
      "metadata": {
        "colab": {
          "base_uri": "https://localhost:8080/",
          "height": 64
        },
        "id": "XxO0c85h3hW6",
        "outputId": "0758304a-0af0-4c2d-9f7e-53846f89a359"
      },
      "id": "XxO0c85h3hW6",
      "execution_count": null,
      "outputs": [
        {
          "output_type": "display_data",
          "data": {
            "text/plain": [
              "<IPython.core.display.Markdown object>"
            ],
            "text/markdown": "**`Final Response:`** Tisotumab vedotin is used for the treatment of adult patients with recurrent or metastatic cervical cancer with disease progression on or after chemotherapy."
          },
          "metadata": {}
        }
      ]
    },
    {
      "cell_type": "code",
      "source": [
        "q = \"what is tisotumab used for?\"\n",
        "display_response(query_engine.query(q))"
      ],
      "metadata": {
        "colab": {
          "base_uri": "https://localhost:8080/",
          "height": 64
        },
        "id": "6WSUZFsz3x_R",
        "outputId": "35c78aa3-d604-425f-9cd0-626c78a5232b"
      },
      "id": "6WSUZFsz3x_R",
      "execution_count": null,
      "outputs": [
        {
          "output_type": "display_data",
          "data": {
            "text/plain": [
              "<IPython.core.display.Markdown object>"
            ],
            "text/markdown": "**`Final Response:`** Tisotumab is used for the treatment of adult patients with recurrent or metastatic cervical cancer with disease progression on or after chemotherapy."
          },
          "metadata": {}
        }
      ]
    },
    {
      "cell_type": "code",
      "source": [
        "q = \"why do patients use cold packs when using tivdak?\"\n",
        "display_response(query_engine.query(q))"
      ],
      "metadata": {
        "id": "0Ko0vafQFDuq",
        "colab": {
          "base_uri": "https://localhost:8080/",
          "height": 46
        },
        "outputId": "ac42d6fb-c52d-4057-9a69-ed9071880848"
      },
      "id": "0Ko0vafQFDuq",
      "execution_count": null,
      "outputs": [
        {
          "output_type": "display_data",
          "data": {
            "text/plain": [
              "<IPython.core.display.Markdown object>"
            ],
            "text/markdown": "**`Final Response:`** Patients use cold packs when using TIVDAK to reduce the risk of eye problems."
          },
          "metadata": {}
        }
      ]
    },
    {
      "cell_type": "code",
      "source": [
        "q = \"what are the most common adverse reactions of tivdak\"\n",
        "display_response(query_engine.query(q))"
      ],
      "metadata": {
        "colab": {
          "base_uri": "https://localhost:8080/",
          "height": 64
        },
        "id": "3n8sCS_eFQIw",
        "outputId": "0fb8d0b3-65ed-4eb7-a6e1-fe6f5f6cae22"
      },
      "id": "3n8sCS_eFQIw",
      "execution_count": null,
      "outputs": [
        {
          "output_type": "display_data",
          "data": {
            "text/plain": [
              "<IPython.core.display.Markdown object>"
            ],
            "text/markdown": "**`Final Response:`** The most common adverse reactions of TIVDAK are fatigue, nausea, diarrhea, abdominal pain, peripheral neuropathy, alopecia, rash, epistaxis, hemorrhage, conjunctival adverse reactions, dry eye, and corneal adverse reactions."
          },
          "metadata": {}
        }
      ]
    },
    {
      "cell_type": "code",
      "source": [
        "q = \"what are the black box warnings of tivdak\"\n",
        "display_response(query_engine.query(q))"
      ],
      "metadata": {
        "colab": {
          "base_uri": "https://localhost:8080/",
          "height": 47
        },
        "id": "CSRm1FlPFQCX",
        "outputId": "c904a5ea-4a49-4551-ee5d-caea9e0f4ddd"
      },
      "id": "CSRm1FlPFQCX",
      "execution_count": null,
      "outputs": [
        {
          "output_type": "display_data",
          "data": {
            "text/plain": [
              "<IPython.core.display.Markdown object>"
            ],
            "text/markdown": "**`Final Response:`** The black box warnings of TIVDAK are not provided in the given context information."
          },
          "metadata": {}
        }
      ]
    },
    {
      "cell_type": "code",
      "source": [
        "q = \"what are the boxed warnings of tivdak\"\n",
        "display_response(query_engine.query(q))"
      ],
      "metadata": {
        "colab": {
          "base_uri": "https://localhost:8080/",
          "height": 47
        },
        "id": "2srcoMwzFP4_",
        "outputId": "55a03504-6aaa-4e2d-8d40-89b05938b4b0"
      },
      "id": "2srcoMwzFP4_",
      "execution_count": null,
      "outputs": [
        {
          "output_type": "display_data",
          "data": {
            "text/plain": [
              "<IPython.core.display.Markdown object>"
            ],
            "text/markdown": "**`Final Response:`** The boxed warnings of TIVDAK are not provided in the given context information."
          },
          "metadata": {}
        }
      ]
    },
    {
      "cell_type": "code",
      "source": [
        "q = \"what are the most common drug interactions of tivdak\"\n",
        "display_response(query_engine.query(q))"
      ],
      "metadata": {
        "id": "Nk_5fP7JF6EI"
      },
      "id": "Nk_5fP7JF6EI",
      "execution_count": null,
      "outputs": []
    },
    {
      "cell_type": "code",
      "source": [
        "q = \"how is tivdak administered\"\n",
        "display_response(query_engine.query(q))"
      ],
      "metadata": {
        "colab": {
          "base_uri": "https://localhost:8080/",
          "height": 64
        },
        "id": "Q91evt9PF6Bc",
        "outputId": "1d18e08b-856d-4f3a-8881-4870ebca046b"
      },
      "id": "Q91evt9PF6Bc",
      "execution_count": null,
      "outputs": [
        {
          "output_type": "display_data",
          "data": {
            "text/plain": [
              "<IPython.core.display.Markdown object>"
            ],
            "text/markdown": "**`Final Response:`** TIVDAK is administered as an intravenous infusion over 30 minutes every 3 weeks until disease progression or unacceptable toxicity."
          },
          "metadata": {}
        }
      ]
    },
    {
      "cell_type": "code",
      "source": [
        "q = \"what are the Pharmacokinetics of tivdak\"\n",
        "display_response(query_engine.query(q))\n"
      ],
      "metadata": {
        "colab": {
          "base_uri": "https://localhost:8080/",
          "height": 47
        },
        "id": "DLFFLcs9F5-w",
        "outputId": "067892a9-0abe-454b-8a59-51342d269449"
      },
      "id": "DLFFLcs9F5-w",
      "execution_count": null,
      "outputs": [
        {
          "output_type": "display_data",
          "data": {
            "text/plain": [
              "<IPython.core.display.Markdown object>"
            ],
            "text/markdown": "**`Final Response:`** The pharmacokinetics of TIVDAK are not known."
          },
          "metadata": {}
        }
      ]
    },
    {
      "cell_type": "code",
      "source": [
        "q = \"what are the Pharmacokinetics of Tisotumab\"\n",
        "display_response(query_engine.query(q))\n"
      ],
      "metadata": {
        "colab": {
          "base_uri": "https://localhost:8080/",
          "height": 64
        },
        "id": "P5eZI0MJF58E",
        "outputId": "59bf3055-acf3-4db2-d615-5ac087b5b790"
      },
      "id": "P5eZI0MJF58E",
      "execution_count": null,
      "outputs": [
        {
          "output_type": "display_data",
          "data": {
            "text/plain": [
              "<IPython.core.display.Markdown object>"
            ],
            "text/markdown": "**`Final Response:`** The pharmacokinetics of Tisotumab are not known. It is not known how tisotumab is metabolized or excreted from the body."
          },
          "metadata": {}
        }
      ]
    },
    {
      "cell_type": "code",
      "source": [
        "q = \"what are the the exposure parameters of Tisotumab\"\n",
        "display_response(query_engine.query(q))\n"
      ],
      "metadata": {
        "colab": {
          "base_uri": "https://localhost:8080/",
          "height": 82
        },
        "id": "aGUJ-y95F55f",
        "outputId": "265dcfa8-d69b-4f80-ddd8-11e2b358c4dd"
      },
      "id": "aGUJ-y95F55f",
      "execution_count": null,
      "outputs": [
        {
          "output_type": "display_data",
          "data": {
            "text/plain": [
              "<IPython.core.display.Markdown object>"
            ],
            "text/markdown": "**`Final Response:`** The exposure parameters of Tisotumab Vedotin-tftv are summarized in Table 6. The mean maximum concentration (Cmax) of Tisotumab Vedotin-tftv is 40.8 μg/mL, and the mean area under the concentration-time curve (AUC) is 57.5 day*μg/mL. The mean Cmax of unconjugated MMAE (the cytotoxic component of Tisotumab Vedotin-tftv) is 5.91 ng/mL, and the mean AUC is 50 day*ng/mL."
          },
          "metadata": {}
        }
      ]
    },
    {
      "cell_type": "code",
      "source": [
        "q = \"what does the elimination of Tisotumab look like\"\n",
        "display_response(query_engine.query(q))"
      ],
      "metadata": {
        "colab": {
          "base_uri": "https://localhost:8080/",
          "height": 82
        },
        "id": "f1M6hOlHF52z",
        "outputId": "11beeb55-d8cd-4c0b-b766-c7444b55702b"
      },
      "id": "f1M6hOlHF52z",
      "execution_count": null,
      "outputs": [
        {
          "output_type": "display_data",
          "data": {
            "text/plain": [
              "<IPython.core.display.Markdown object>"
            ],
            "text/markdown": "**`Final Response:`** The elimination of Tisotumab is characterized by a median terminal half-life of 4.04 days, a linear clearance of 1.54 L/day, and excretion of 17% of the total MMAE administered recovered in feces and 6% in urine over a 1-week period. It is thought to be metabolized in the liver and excreted in the urine and feces."
          },
          "metadata": {}
        }
      ]
    },
    {
      "cell_type": "code",
      "source": [
        "q = \"was the efficacy of TIVDAK ever evaluated? please cite any relevant clinical studies  \"\n",
        "display_response(query_engine.query(q))\n"
      ],
      "metadata": {
        "id": "sYr68_3IF50Z",
        "colab": {
          "base_uri": "https://localhost:8080/",
          "height": 81
        },
        "outputId": "c5977b21-4919-4c4c-b8f4-12d52b8b15db"
      },
      "id": "sYr68_3IF50Z",
      "execution_count": null,
      "outputs": [
        {
          "output_type": "display_data",
          "data": {
            "text/plain": [
              "<IPython.core.display.Markdown object>"
            ],
            "text/markdown": "**`Final Response:`** Yes, the efficacy of TIVDAK was evaluated. The clinical study mentioned in the context information is \"innovaTV 204.\" This study evaluated the efficacy of TIVDAK in patients with cervical cancer. The efficacy results, including the confirmed overall response rate (ORR), complete response rate, partial response rate, and duration of response, are provided in Table 7 on page 18 of the document."
          },
          "metadata": {}
        }
      ]
    },
    {
      "cell_type": "markdown",
      "source": [
        "### Summmarize sections of report"
      ],
      "metadata": {
        "id": "fQxUY5Si6p5-"
      },
      "id": "fQxUY5Si6p5-"
    },
    {
      "cell_type": "code",
      "source": [
        "q = \"Summarize the possible adverse affects of TIVDAK\"\n",
        "display_response(query_engine.query(q))"
      ],
      "metadata": {
        "colab": {
          "base_uri": "https://localhost:8080/",
          "height": 98
        },
        "id": "s_iCVR-J5M2s",
        "outputId": "0aec044b-faed-448c-cf58-225dc8873d50"
      },
      "id": "s_iCVR-J5M2s",
      "execution_count": null,
      "outputs": [
        {
          "output_type": "display_data",
          "data": {
            "text/plain": [
              "<IPython.core.display.Markdown object>"
            ],
            "text/markdown": "**`Final Response:`** The possible adverse effects of TIVDAK include periorbital adverse reactions, musculoskeletal and connective tissue disorders such as myalgia and arthralgia, pain in extremity, decreased appetite, urinary tract infection, weight decreased, fatigue, nausea, diarrhea, abdominal pain, peripheral neuropathy, rash, hemorrhage, conjunctival adverse reactions, dry eye, corneal adverse reactions, and venous thrombosis, pulmonary embolism, and pneumonitis in less than 10% of patients."
          },
          "metadata": {}
        }
      ]
    },
    {
      "cell_type": "code",
      "source": [
        "q = \"Summarize section 5 of the TIVDAK documentation\"\n",
        "display_response(query_engine.query(q))"
      ],
      "metadata": {
        "colab": {
          "base_uri": "https://localhost:8080/",
          "height": 116
        },
        "id": "v3WDEU0o5-1Q",
        "outputId": "e160e211-77cb-4460-dcfe-3458f9f78813"
      },
      "id": "v3WDEU0o5-1Q",
      "execution_count": null,
      "outputs": [
        {
          "output_type": "display_data",
          "data": {
            "text/plain": [
              "<IPython.core.display.Markdown object>"
            ],
            "text/markdown": "**`Final Response:`** Section 5 of the TIVDAK documentation discusses the warnings and precautions associated with the use of the medication. It highlights three main concerns: peripheral neuropathy, hemorrhage, and pneumonitis. The section advises monitoring patients for new or worsening peripheral neuropathy and adjusting the dose or discontinuing TIVDAK accordingly. It also emphasizes the need to monitor for signs and symptoms of hemorrhage and to take appropriate action based on severity. Additionally, it warns about the potential occurrence of severe, life-threatening, or fatal pneumonitis and provides guidelines for managing it. The section also mentions the potential embryo-fetal toxicity of TIVDAK and advises patients to use effective contraception."
          },
          "metadata": {}
        }
      ]
    },
    {
      "cell_type": "markdown",
      "source": [
        "## Streamlit app interface"
      ],
      "metadata": {
        "id": "Xmj3QnxklgUe"
      },
      "id": "Xmj3QnxklgUe"
    },
    {
      "cell_type": "code",
      "source": [
        "doc_path = './data/'\n",
        "index_file = 'index.json'"
      ],
      "metadata": {
        "id": "L88A0QqlkiSr"
      },
      "id": "L88A0QqlkiSr",
      "execution_count": null,
      "outputs": []
    },
    {
      "cell_type": "code",
      "source": [
        "if 'response' not in st.session_state:\n",
        "    st.session_state.response = ''\n",
        "\n",
        "def send_click():\n",
        "    st.session_state.response  = index.query(st.session_state.prompt)\n",
        "\n",
        "index = None\n",
        "st.title(\"Tivdak Drug Info Chatbot\")\n",
        "\n",
        "sidebar_placeholder = st.sidebar.container()\n",
        "uploaded_file = st.file_uploader(\"Choose a file\")\n",
        "\n",
        "if uploaded_file is not None:\n",
        "\n",
        "    doc_files = os.listdir(doc_path)\n",
        "    for doc_file in doc_files:\n",
        "        os.remove(doc_path + doc_file)\n",
        "\n",
        "    bytes_data = uploaded_file.read()\n",
        "    with open(f\"{doc_path}{uploaded_file.name}\", 'wb') as f:\n",
        "        f.write(bytes_data)\n",
        "\n",
        "    SimpleDirectoryReader = download_loader(\"SimpleDirectoryReader\")\n",
        "\n",
        "    loader = SimpleDirectoryReader(doc_path, recursive=True, exclude_hidden=True)\n",
        "    documents = loader.load_data()\n",
        "    sidebar_placeholder.header('Current Processing Document:')\n",
        "    sidebar_placeholder.subheader(uploaded_file.name)\n",
        "    sidebar_placeholder.write(documents[0].get_text()[:10000]+'...')\n",
        "\n",
        "    llm_predictor = LLMPredictor(llm=OpenAI(temperature=0, model_name=\"gpt-3.5-turbo\"))\n",
        "\n",
        "    max_input_size = 4096\n",
        "    num_output = 256\n",
        "    max_chunk_overlap = 20\n",
        "    prompt_helper = PromptHelper(max_input_size, num_output, max_chunk_overlap)\n",
        "\n",
        "    service_context = ServiceContext.from_defaults(llm_predictor=llm_predictor, prompt_helper=prompt_helper)\n",
        "\n",
        "    index = VectorStoreIndex.from_documents(\n",
        "        documents, service_context=service_context\n",
        "    )\n",
        "\n",
        "    index.save_to_disk(index_file)\n",
        "\n",
        "elif os.path.exists(index_file):\n",
        "    index = VectorStoreIndex.load_from_disk(index_file)\n",
        "\n",
        "    SimpleDirectoryReader = download_loader(\"SimpleDirectoryReader\")\n",
        "    loader = SimpleDirectoryReader(doc_path, recursive=True, exclude_hidden=True)\n",
        "    documents = loader.load_data()\n",
        "    doc_filename = os.listdir(doc_path)[0]\n",
        "    sidebar_placeholder.header('Current Processing Document:')\n",
        "    sidebar_placeholder.subheader(doc_filename)\n",
        "    sidebar_placeholder.write(documents[0].get_text()[:10000]+'...')\n",
        "\n",
        "if index != None:\n",
        "    st.text_input(\"Ask something: \", key='prompt')\n",
        "    st.button(\"Send\", on_click=send_click)\n",
        "    if st.session_state.response:\n",
        "        st.subheader(\"Response: \")\n",
        "        st.success(st.session_state.response, icon= \"🤖\")"
      ],
      "metadata": {
        "id": "aDTlj-HgF5uK",
        "colab": {
          "base_uri": "https://localhost:8080/"
        },
        "outputId": "3f73a2fd-20ef-4610-ecd7-23f10a226f0a"
      },
      "id": "aDTlj-HgF5uK",
      "execution_count": null,
      "outputs": [
        {
          "output_type": "stream",
          "name": "stderr",
          "text": [
            "2023-07-20 15:30:08.696 WARNING streamlit.runtime.state.session_state_proxy: Session state does not function when running a script without `streamlit run`\n",
            "2023-07-20 15:30:09.227 \n",
            "  \u001b[33m\u001b[1mWarning:\u001b[0m to view this Streamlit app on a browser, run it with the following\n",
            "  command:\n",
            "\n",
            "    streamlit run /usr/local/lib/python3.10/dist-packages/ipykernel_launcher.py [ARGUMENTS]\n"
          ]
        }
      ]
    },
    {
      "cell_type": "code",
      "source": [
        "st run /content/drive/MyDrive/Colab Notebooks/streamlit_app/demo.py"
      ],
      "metadata": {
        "id": "EI-WOMa-F5p9",
        "colab": {
          "base_uri": "https://localhost:8080/",
          "height": 130
        },
        "outputId": "95564b09-4468-4005-be21-fc7f6bea3f58"
      },
      "id": "EI-WOMa-F5p9",
      "execution_count": null,
      "outputs": [
        {
          "output_type": "error",
          "ename": "SyntaxError",
          "evalue": "ignored",
          "traceback": [
            "\u001b[0;36m  File \u001b[0;32m\"<ipython-input-22-1f3943c6edba>\"\u001b[0;36m, line \u001b[0;32m1\u001b[0m\n\u001b[0;31m    st run /content/drive/MyDrive/Colab Notebooks/streamlit_app/demo.py\u001b[0m\n\u001b[0m       ^\u001b[0m\n\u001b[0;31mSyntaxError\u001b[0m\u001b[0;31m:\u001b[0m invalid syntax\n"
          ]
        }
      ]
    },
    {
      "cell_type": "code",
      "source": [
        "streamlit run my_script.py"
      ],
      "metadata": {
        "id": "JOA_TRhZF5j6"
      },
      "id": "JOA_TRhZF5j6",
      "execution_count": null,
      "outputs": []
    },
    {
      "cell_type": "code",
      "source": [],
      "metadata": {
        "id": "FE70FGEPoLe6"
      },
      "id": "FE70FGEPoLe6",
      "execution_count": null,
      "outputs": []
    },
    {
      "cell_type": "code",
      "source": [],
      "metadata": {
        "id": "xJ1VdH7AF5ad"
      },
      "id": "xJ1VdH7AF5ad",
      "execution_count": null,
      "outputs": []
    }
  ],
  "metadata": {
    "kernelspec": {
      "display_name": "Python 3 (ipykernel)",
      "language": "python",
      "name": "python3"
    },
    "language_info": {
      "codemirror_mode": {
        "name": "ipython",
        "version": 3
      },
      "file_extension": ".py",
      "mimetype": "text/x-python",
      "name": "python",
      "nbconvert_exporter": "python",
      "pygments_lexer": "ipython3",
      "version": "3.10.9"
    },
    "colab": {
      "provenance": [],
      "include_colab_link": true
    }
  },
  "nbformat": 4,
  "nbformat_minor": 5
}